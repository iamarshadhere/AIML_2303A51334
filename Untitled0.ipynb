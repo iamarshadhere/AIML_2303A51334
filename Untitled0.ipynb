{
  "nbformat": 4,
  "nbformat_minor": 0,
  "metadata": {
    "colab": {
      "provenance": []
    },
    "kernelspec": {
      "name": "python3",
      "display_name": "Python 3"
    },
    "language_info": {
      "name": "python"
    }
  },
  "cells": [
    {
      "cell_type": "code",
      "execution_count": 3,
      "metadata": {
        "colab": {
          "base_uri": "https://localhost:8080/"
        },
        "id": "OrbfjqPMs1RR",
        "outputId": "69dbe2af-215d-4f4b-bb4b-43a827abd759"
      },
      "outputs": [
        {
          "output_type": "stream",
          "name": "stdout",
          "text": [
            "1.3\n"
          ]
        }
      ],
      "source": [
        "input=[1,2,3]\n",
        "weights=[0.2,0.3, -0.5]\n",
        "bias = 2\n",
        "\n",
        "output = input[0]*weights[0]+input[1]*weights[1]+input[2]*weights[2]+bias\n",
        "print(output)"
      ]
    },
    {
      "cell_type": "code",
      "source": [
        "input=[0.4,0.3,1,0.8]\n",
        "weights1=[0.3,0.2,0.1,0.4]\n",
        "weights2=[0.4,0.1,-0.1,0.2]\n",
        "weights3=[0.2,-0.2,-0.1,0.8]\n",
        "bias1=0.5\n",
        "bias2=0.3\n",
        "bias3=0.6\n",
        "output=[input[0]*weights1[0]+input[1]*weights1[1]+input[2]*weights1[2]+input[3]*weights1[3]+bias1,\n",
        "       input[0]*weights2[0]+input[1]*weights2[1]+input[2]*weights1[2]+input[3]*weights2[3]+bias2,\n",
        "       input[0]*weights3[0]+input[1]*weights3[1]+input[2]*weights3[2]+input[3]*weights3[3]+bias3]\n",
        "print(output)"
      ],
      "metadata": {
        "id": "mgR_4oim1yxm"
      },
      "execution_count": null,
      "outputs": []
    },
    {
      "cell_type": "code",
      "source": [],
      "metadata": {
        "id": "8G855g5J9pux"
      },
      "execution_count": null,
      "outputs": []
    }
  ]
}