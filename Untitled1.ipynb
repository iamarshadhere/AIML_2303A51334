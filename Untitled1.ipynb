{
  "nbformat": 4,
  "nbformat_minor": 0,
  "metadata": {
    "colab": {
      "provenance": [],
      "toc_visible": true,
      "include_colab_link": true
    },
    "kernelspec": {
      "name": "python3",
      "display_name": "Python 3"
    },
    "language_info": {
      "name": "python"
    }
  },
  "cells": [
    {
      "cell_type": "markdown",
      "metadata": {
        "id": "view-in-github",
        "colab_type": "text"
      },
      "source": [
        "<a href=\"https://colab.research.google.com/github/iamarshadhere/AIML_2303A51334/blob/main/Untitled1.ipynb\" target=\"_parent\"><img src=\"https://colab.research.google.com/assets/colab-badge.svg\" alt=\"Open In Colab\"/></a>"
      ]
    },
    {
      "cell_type": "code",
      "execution_count": null,
      "metadata": {
        "colab": {
          "base_uri": "https://localhost:8080/"
        },
        "id": "HfeO0p4hrpn-",
        "outputId": "0db7705b-fa15-4ee6-de01-36528512da8b"
      },
      "outputs": [
        {
          "output_type": "stream",
          "name": "stdout",
          "text": [
            "1.3\n"
          ]
        }
      ],
      "source": [
        "inputs=[1,2,3]\n",
        "weights=[0.2,0.3,-0.5]\n",
        "bias=2\n",
        "\n",
        "\n",
        "output=inputs[0]*weights[0]+inputs[1]*weights[1]+inputs[2]*weights[2]+bias\n",
        "print(output)"
      ]
    },
    {
      "cell_type": "code",
      "source": [
        "input=[0.4,0.3,1,0.8]\n",
        "weights1=[0.3,0.2,0.1,0.4]\n",
        "weights2=[0.4,0.7,0.3,0.2]\n",
        "weights3=[0.2,0.9,0.1,0.5]\n",
        "bias1=0.5\n",
        "bias2=0.3\n",
        "bias3=0.6\n",
        "output = [input[0]*weights1[0]+input[1]*weights1[1]+input[2]*weights1[2]+input[3]*weights1[3]+bias1,\n",
        "         input[0]*weights2[0]+input[1]*weights2[1]+input[2]*weights2[2]+input[3]*weights2[3]+bias2,\n",
        "         input[0]*weights3[0]+input[1]*weights3[1]+input[2]*weights3[2]+input[3]*weights3[3]+bias3 ]\n",
        "\n",
        "print(output)"
      ],
      "metadata": {
        "colab": {
          "base_uri": "https://localhost:8080/"
        },
        "id": "S0UEGYW9vb0d",
        "outputId": "71213366-fbd2-468c-e14e-670255832e01"
      },
      "execution_count": null,
      "outputs": [
        {
          "output_type": "stream",
          "name": "stdout",
          "text": [
            "[1.1, 1.13, 1.4500000000000002]\n"
          ]
        }
      ]
    }
  ]
}