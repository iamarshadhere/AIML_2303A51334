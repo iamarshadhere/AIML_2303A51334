{
  "nbformat": 4,
  "nbformat_minor": 0,
  "metadata": {
    "colab": {
      "provenance": [],
      "authorship_tag": "ABX9TyNIbze2uVdjdwHpxP+8EtMh",
      "include_colab_link": true
    },
    "kernelspec": {
      "name": "python3",
      "display_name": "Python 3"
    },
    "language_info": {
      "name": "python"
    }
  },
  "cells": [
    {
      "cell_type": "markdown",
      "metadata": {
        "id": "view-in-github",
        "colab_type": "text"
      },
      "source": [
        "<a href=\"https://colab.research.google.com/github/iamarshadhere/AIML_2303A51334/blob/main/Untitled2.ipynb\" target=\"_parent\"><img src=\"https://colab.research.google.com/assets/colab-badge.svg\" alt=\"Open In Colab\"/></a>"
      ]
    },
    {
      "cell_type": "code",
      "execution_count": 3,
      "metadata": {
        "colab": {
          "base_uri": "https://localhost:8080/"
        },
        "id": "coWF3KUfxyau",
        "outputId": "befd776a-e373-42bc-eda6-9ff7dd767f49"
      },
      "outputs": [
        {
          "output_type": "stream",
          "name": "stdout",
          "text": [
            "The adjacency list representing the graph is:\n",
            "{0: [1, 2, 3], 1: [0, 2], 2: [1, 3, 5], 3: [0, 2, 4], 4: [3, 5, 7], 5: [2, 4, 6, 7], 6: [5, 7], 7: []}\n"
          ]
        }
      ],
      "source": [
        "from queue import Queue\n",
        "graph={\n",
        "    0:[1,2,3],\n",
        "    1:[0,2],\n",
        "    2:[1,3,5],\n",
        "    3:[0,2,4],\n",
        "    4:[3,5,7],\n",
        "    5:[2,4,6,7],\n",
        "    6:[5,7],\n",
        "    7:[],\n",
        "    }\n",
        "print(\"The adjacency list representing the graph is:\")\n",
        "print(graph)\n",
        "def bfs(graph,source):\n",
        "  Q=Queue()\n",
        "  visited_vertices=set()\n",
        "  Q.put(source)\n",
        "  visited_vertices.update((source))\n",
        "  while not Q.empty():\n",
        "    vertex=Q.get()\n",
        "    print(vertex,end=\" \")\n",
        "    for u in graph[vertex]:\n",
        "      if u not in visited_vertices:\n",
        "        Q.put(u)\n",
        "        visited_vertices.update([u])\n",
        "        print(\"bfs traversal of graph with source 1 is:\")\n",
        "        bis(graph,1)"
      ]
    },
    {
      "cell_type": "code",
      "source": [
        "graph1 = {\n",
        "    'A': ['B', 'C', 'G'],\n",
        "    'B': ['A'],\n",
        "    'C': ['A', 'D', 'F'],\n",
        "    'D': ['A', 'C', 'E', 'H'],\n",
        "    'E': ['D', 'H', 'F'],\n",
        "    'F': ['C', 'E'],\n",
        "    'G': ['A', 'D', 'H'],\n",
        "    'H': ['D', 'E', 'G']\n",
        "}\n",
        "\n",
        "def dfs(graph, node, visited):\n",
        "    if node not in visited:\n",
        "        visited.append(node)\n",
        "        for k in graph[node]:\n",
        "            dfs(graph, k, visited)\n",
        "    return visited\n",
        "\n",
        "visited = dfs(graph1, 'B', [])\n",
        "print(visited)"
      ],
      "metadata": {
        "colab": {
          "base_uri": "https://localhost:8080/"
        },
        "id": "pM_TNc2N4SCo",
        "outputId": "3f0e8422-148d-4ca8-a226-4844eee2f12c"
      },
      "execution_count": 6,
      "outputs": [
        {
          "output_type": "stream",
          "name": "stdout",
          "text": [
            "['B', 'A', 'C', 'D', 'E', 'H', 'G', 'F']\n"
          ]
        }
      ]
    },
    {
      "cell_type": "code",
      "source": [
        "graph1={\n",
        "    'A':['B','S'],\n",
        "    'B':['A'],\n",
        "    'S':['A','C','G'],\n",
        "    'G':['S','F','H'],\n",
        "    'H':['G','E'],\n",
        "    'E':['D','H','F'],\n",
        "    'F':['C','G'],\n",
        "    'C':['S','E','D'],\n",
        "    'D':['C']\n",
        "}\n",
        "def dfs(graph,node,visited):\n",
        "  if node not in visited:\n",
        "    visited.append(node)\n",
        "    for k in graph[node]:\n",
        "      dfs(graph,k,visited)\n",
        "  return visited\n",
        "visited=dfs(graph1,'D',[])\n",
        "print(visited)"
      ],
      "metadata": {
        "colab": {
          "base_uri": "https://localhost:8080/"
        },
        "id": "q2TRaGvDByrI",
        "outputId": "95779191-1843-4234-cafe-a14aa7dd73cb"
      },
      "execution_count": 8,
      "outputs": [
        {
          "output_type": "stream",
          "name": "stdout",
          "text": [
            "['D', 'C', 'S', 'A', 'B', 'G', 'F', 'H', 'E']\n"
          ]
        }
      ]
    }
  ]
}